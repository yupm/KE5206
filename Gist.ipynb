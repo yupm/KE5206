{
 "cells": [
  {
   "cell_type": "code",
   "execution_count": null,
   "metadata": {},
   "outputs": [],
   "source": [
    "cgnet = algorithms.Hessian(\n",
    "    connection=[\n",
    "        layers.Input(len(x_train.columns)),\n",
    "        layers.Sigmoid(60),\n",
    "        layers.Sigmoid(60),\n",
    "        layers.Sigmoid(1),\n",
    "    ],\n",
    "    verbose=True,\n",
    ")\n",
    "\n",
    "cgnet.train(x_train, y_train, x_test, y_test, epochs=20)\n",
    "y_predict = cgnet.predict(x_test)\n",
    "\n",
    "error = estimators.rmsle(y_predict, y_test)\n",
    "\n",
    "y_predict"
   ]
  }
 ],
 "metadata": {
  "kernelspec": {
   "display_name": "Python 3",
   "language": "python",
   "name": "python3"
  },
  "language_info": {
   "codemirror_mode": {
    "name": "ipython",
    "version": 3
   },
   "file_extension": ".py",
   "mimetype": "text/x-python",
   "name": "python",
   "nbconvert_exporter": "python",
   "pygments_lexer": "ipython3",
   "version": "3.6.5"
  }
 },
 "nbformat": 4,
 "nbformat_minor": 2
}
